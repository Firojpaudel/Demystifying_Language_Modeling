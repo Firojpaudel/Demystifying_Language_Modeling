{
  "nbformat": 4,
  "nbformat_minor": 0,
  "metadata": {
    "colab": {
      "provenance": [],
      "authorship_tag": "ABX9TyN5pmTsY3ziESSf3lafjv9b",
      "include_colab_link": true
    },
    "kernelspec": {
      "name": "python3",
      "display_name": "Python 3"
    },
    "language_info": {
      "name": "python"
    }
  },
  "cells": [
    {
      "cell_type": "markdown",
      "metadata": {
        "id": "view-in-github",
        "colab_type": "text"
      },
      "source": [
        "<a href=\"https://colab.research.google.com/github/Firojpaudel/Demystifying_Language_Modeling/blob/main/Tokenizer/Tokenizer_Exercise.ipynb\" target=\"_parent\"><img src=\"https://colab.research.google.com/assets/colab-badge.svg\" alt=\"Open In Colab\"/></a>"
      ]
    },
    {
      "cell_type": "markdown",
      "source": [
        "#### Building own GPT-4 Tokenizer\n",
        "---\n"
      ],
      "metadata": {
        "id": "g0y2piA_Bkv3"
      }
    },
    {
      "cell_type": "markdown",
      "source": [
        "#### Step 1: Create a `BasicTokenizer` class that has:\n",
        "- `train`, `encode` and `decode` functions ."
      ],
      "metadata": {
        "id": "2FghkQ2Y4qBe"
      }
    },
    {
      "cell_type": "code",
      "source": [
        "class BasicTokenizer(Tokenizer):\n",
        "  def __init__(self):\n",
        "    super().__init__()\n",
        "\n",
        "  def train(self, text, vocab_size, verbose= False):\n",
        "    assert vocab_size >= 256\n",
        "    num_merges = vocab_size - 256\n",
        "\n",
        "    in_bytes = text.encode(\"UTF-8\")\n",
        "    ids = list(in_bytes)\n",
        "\n",
        "    merges ={}\n",
        "    vocab = {idx: bytes([idx]) for idx in range(256)}\n",
        "\n",
        "    for i in range(num_merges):\n",
        "      status = get_status(ids)\n",
        "      pair = max(status, key = status.get)\n",
        "      indx  = 256 + i\n",
        "      ids = merge(ids, pair, indx)\n",
        "      merges[pair] = indx\n",
        "      vocab[idx] = vocab[pair[0]] + vocab[pair[1]]\n",
        "\n",
        "      if verbose:\n",
        "        print(f\"merge {i+1}/{num_merges}: {pair} -> {idx} ({vocab[idx]}) had {stats[pair]} occurrences\")"
      ],
      "metadata": {
        "id": "VX7A5RhF5ERt"
      },
      "execution_count": null,
      "outputs": []
    }
  ]
}